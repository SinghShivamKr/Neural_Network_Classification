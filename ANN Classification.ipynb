{
 "cells": [
  {
   "cell_type": "code",
   "execution_count": 2,
   "metadata": {},
   "outputs": [],
   "source": [
    "#Import Lib files\n",
    "import pandas as pd\n",
    "import numpy as np\n",
    "import matplotlib.pyplot as plt"
   ]
  },
  {
   "cell_type": "code",
   "execution_count": 5,
   "metadata": {},
   "outputs": [
    {
     "data": {
      "text/html": [
       "<div>\n",
       "<style scoped>\n",
       "    .dataframe tbody tr th:only-of-type {\n",
       "        vertical-align: middle;\n",
       "    }\n",
       "\n",
       "    .dataframe tbody tr th {\n",
       "        vertical-align: top;\n",
       "    }\n",
       "\n",
       "    .dataframe thead th {\n",
       "        text-align: right;\n",
       "    }\n",
       "</style>\n",
       "<table border=\"1\" class=\"dataframe\">\n",
       "  <thead>\n",
       "    <tr style=\"text-align: right;\">\n",
       "      <th></th>\n",
       "      <th>mean_radius</th>\n",
       "      <th>mean_texture</th>\n",
       "      <th>mean_perimeter</th>\n",
       "      <th>mean_area</th>\n",
       "      <th>mean_smoothness</th>\n",
       "      <th>diagnosis</th>\n",
       "    </tr>\n",
       "  </thead>\n",
       "  <tbody>\n",
       "    <tr>\n",
       "      <td>0</td>\n",
       "      <td>17.99</td>\n",
       "      <td>10.38</td>\n",
       "      <td>122.80</td>\n",
       "      <td>1001.0</td>\n",
       "      <td>0.11840</td>\n",
       "      <td>0</td>\n",
       "    </tr>\n",
       "    <tr>\n",
       "      <td>1</td>\n",
       "      <td>20.57</td>\n",
       "      <td>17.77</td>\n",
       "      <td>132.90</td>\n",
       "      <td>1326.0</td>\n",
       "      <td>0.08474</td>\n",
       "      <td>0</td>\n",
       "    </tr>\n",
       "    <tr>\n",
       "      <td>2</td>\n",
       "      <td>19.69</td>\n",
       "      <td>21.25</td>\n",
       "      <td>130.00</td>\n",
       "      <td>1203.0</td>\n",
       "      <td>0.10960</td>\n",
       "      <td>0</td>\n",
       "    </tr>\n",
       "    <tr>\n",
       "      <td>3</td>\n",
       "      <td>11.42</td>\n",
       "      <td>20.38</td>\n",
       "      <td>77.58</td>\n",
       "      <td>386.1</td>\n",
       "      <td>0.14250</td>\n",
       "      <td>0</td>\n",
       "    </tr>\n",
       "    <tr>\n",
       "      <td>4</td>\n",
       "      <td>20.29</td>\n",
       "      <td>14.34</td>\n",
       "      <td>135.10</td>\n",
       "      <td>1297.0</td>\n",
       "      <td>0.10030</td>\n",
       "      <td>0</td>\n",
       "    </tr>\n",
       "  </tbody>\n",
       "</table>\n",
       "</div>"
      ],
      "text/plain": [
       "   mean_radius  mean_texture  mean_perimeter  mean_area  mean_smoothness  \\\n",
       "0        17.99         10.38          122.80     1001.0          0.11840   \n",
       "1        20.57         17.77          132.90     1326.0          0.08474   \n",
       "2        19.69         21.25          130.00     1203.0          0.10960   \n",
       "3        11.42         20.38           77.58      386.1          0.14250   \n",
       "4        20.29         14.34          135.10     1297.0          0.10030   \n",
       "\n",
       "   diagnosis  \n",
       "0          0  \n",
       "1          0  \n",
       "2          0  \n",
       "3          0  \n",
       "4          0  "
      ]
     },
     "execution_count": 5,
     "metadata": {},
     "output_type": "execute_result"
    }
   ],
   "source": [
    "import io\n",
    "\n",
    "cancer = pd.read_csv('Breast_cancer_data.csv')\n",
    "cancer.head()"
   ]
  },
  {
   "cell_type": "code",
   "execution_count": 6,
   "metadata": {},
   "outputs": [
    {
     "name": "stdout",
     "output_type": "stream",
     "text": [
      "<class 'pandas.core.frame.DataFrame'>\n",
      "RangeIndex: 569 entries, 0 to 568\n",
      "Data columns (total 6 columns):\n",
      "mean_radius        569 non-null float64\n",
      "mean_texture       569 non-null float64\n",
      "mean_perimeter     569 non-null float64\n",
      "mean_area          569 non-null float64\n",
      "mean_smoothness    569 non-null float64\n",
      "diagnosis          569 non-null int64\n",
      "dtypes: float64(5), int64(1)\n",
      "memory usage: 26.8 KB\n"
     ]
    }
   ],
   "source": [
    "cancer.info()"
   ]
  },
  {
   "cell_type": "markdown",
   "metadata": {},
   "source": [
    "# EDA Part"
   ]
  },
  {
   "cell_type": "code",
   "execution_count": 8,
   "metadata": {},
   "outputs": [
    {
     "data": {
      "text/plain": [
       "0"
      ]
     },
     "execution_count": 8,
     "metadata": {},
     "output_type": "execute_result"
    }
   ],
   "source": [
    "cancer.duplicated().sum()"
   ]
  },
  {
   "cell_type": "code",
   "execution_count": 9,
   "metadata": {},
   "outputs": [
    {
     "data": {
      "text/plain": [
       "mean_radius        0\n",
       "mean_texture       0\n",
       "mean_perimeter     0\n",
       "mean_area          0\n",
       "mean_smoothness    0\n",
       "diagnosis          0\n",
       "dtype: int64"
      ]
     },
     "execution_count": 9,
     "metadata": {},
     "output_type": "execute_result"
    }
   ],
   "source": [
    "cancer.isna().sum()"
   ]
  },
  {
   "cell_type": "code",
   "execution_count": 12,
   "metadata": {},
   "outputs": [
    {
     "data": {
      "text/plain": [
       "<matplotlib.axes._subplots.AxesSubplot at 0x1b9bb312fc8>"
      ]
     },
     "execution_count": 12,
     "metadata": {},
     "output_type": "execute_result"
    },
    {
     "data": {
      "image/png": "[encoded data removed]",
      "text/plain": [
       "<Figure size 1440x720 with 2 Axes>"
      ]
     },
     "metadata": {
      "needs_background": "light"
     },
     "output_type": "display_data"
    }
   ],
   "source": [
    "#Check corrrelations\n",
    "import seaborn as sns\n",
    "plt.figure(figsize=(20,10))\n",
    "\n",
    "sns.heatmap(cancer.corr(),annot=True)"
   ]
  },
  {
   "cell_type": "code",
   "execution_count": 14,
   "metadata": {},
   "outputs": [
    {
     "data": {
      "text/html": [
       "<div>\n",
       "<style scoped>\n",
       "    .dataframe tbody tr th:only-of-type {\n",
       "        vertical-align: middle;\n",
       "    }\n",
       "\n",
       "    .dataframe tbody tr th {\n",
       "        vertical-align: top;\n",
       "    }\n",
       "\n",
       "    .dataframe thead th {\n",
       "        text-align: right;\n",
       "    }\n",
       "</style>\n",
       "<table border=\"1\" class=\"dataframe\">\n",
       "  <thead>\n",
       "    <tr style=\"text-align: right;\">\n",
       "      <th></th>\n",
       "      <th>count</th>\n",
       "      <th>mean</th>\n",
       "      <th>std</th>\n",
       "      <th>min</th>\n",
       "      <th>25%</th>\n",
       "      <th>50%</th>\n",
       "      <th>75%</th>\n",
       "      <th>max</th>\n",
       "    </tr>\n",
       "  </thead>\n",
       "  <tbody>\n",
       "    <tr>\n",
       "      <td>mean_radius</td>\n",
       "      <td>569.0</td>\n",
       "      <td>14.127292</td>\n",
       "      <td>3.524049</td>\n",
       "      <td>6.98100</td>\n",
       "      <td>11.70000</td>\n",
       "      <td>13.37000</td>\n",
       "      <td>15.7800</td>\n",
       "      <td>28.1100</td>\n",
       "    </tr>\n",
       "    <tr>\n",
       "      <td>mean_texture</td>\n",
       "      <td>569.0</td>\n",
       "      <td>19.289649</td>\n",
       "      <td>4.301036</td>\n",
       "      <td>9.71000</td>\n",
       "      <td>16.17000</td>\n",
       "      <td>18.84000</td>\n",
       "      <td>21.8000</td>\n",
       "      <td>39.2800</td>\n",
       "    </tr>\n",
       "    <tr>\n",
       "      <td>mean_perimeter</td>\n",
       "      <td>569.0</td>\n",
       "      <td>91.969033</td>\n",
       "      <td>24.298981</td>\n",
       "      <td>43.79000</td>\n",
       "      <td>75.17000</td>\n",
       "      <td>86.24000</td>\n",
       "      <td>104.1000</td>\n",
       "      <td>188.5000</td>\n",
       "    </tr>\n",
       "    <tr>\n",
       "      <td>mean_area</td>\n",
       "      <td>569.0</td>\n",
       "      <td>654.889104</td>\n",
       "      <td>351.914129</td>\n",
       "      <td>143.50000</td>\n",
       "      <td>420.30000</td>\n",
       "      <td>551.10000</td>\n",
       "      <td>782.7000</td>\n",
       "      <td>2501.0000</td>\n",
       "    </tr>\n",
       "    <tr>\n",
       "      <td>mean_smoothness</td>\n",
       "      <td>569.0</td>\n",
       "      <td>0.096360</td>\n",
       "      <td>0.014064</td>\n",
       "      <td>0.05263</td>\n",
       "      <td>0.08637</td>\n",
       "      <td>0.09587</td>\n",
       "      <td>0.1053</td>\n",
       "      <td>0.1634</td>\n",
       "    </tr>\n",
       "    <tr>\n",
       "      <td>diagnosis</td>\n",
       "      <td>569.0</td>\n",
       "      <td>0.627417</td>\n",
       "      <td>0.483918</td>\n",
       "      <td>0.00000</td>\n",
       "      <td>0.00000</td>\n",
       "      <td>1.00000</td>\n",
       "      <td>1.0000</td>\n",
       "      <td>1.0000</td>\n",
       "    </tr>\n",
       "  </tbody>\n",
       "</table>\n",
       "</div>"
      ],
      "text/plain": [
       "                 count        mean         std        min        25%  \\\n",
       "mean_radius      569.0   14.127292    3.524049    6.98100   11.70000   \n",
       "mean_texture     569.0   19.289649    4.301036    9.71000   16.17000   \n",
       "mean_perimeter   569.0   91.969033   24.298981   43.79000   75.17000   \n",
       "mean_area        569.0  654.889104  351.914129  143.50000  420.30000   \n",
       "mean_smoothness  569.0    0.096360    0.014064    0.05263    0.08637   \n",
       "diagnosis        569.0    0.627417    0.483918    0.00000    0.00000   \n",
       "\n",
       "                       50%       75%        max  \n",
       "mean_radius       13.37000   15.7800    28.1100  \n",
       "mean_texture      18.84000   21.8000    39.2800  \n",
       "mean_perimeter    86.24000  104.1000   188.5000  \n",
       "mean_area        551.10000  782.7000  2501.0000  \n",
       "mean_smoothness    0.09587    0.1053     0.1634  \n",
       "diagnosis          1.00000    1.0000     1.0000  "
      ]
     },
     "execution_count": 14,
     "metadata": {},
     "output_type": "execute_result"
    }
   ],
   "source": [
    "cancer.describe().transpose()"
   ]
  },
  {
   "cell_type": "code",
   "execution_count": 15,
   "metadata": {},
   "outputs": [
    {
     "data": {
      "text/plain": [
       "(569, 6)"
      ]
     },
     "execution_count": 15,
     "metadata": {},
     "output_type": "execute_result"
    }
   ],
   "source": [
    "cancer.shape"
   ]
  },
  {
   "cell_type": "markdown",
   "metadata": {},
   "source": [
    "# Train data"
   ]
  },
  {
   "cell_type": "code",
   "execution_count": 56,
   "metadata": {},
   "outputs": [
    {
     "data": {
      "text/plain": [
       "(57, 4)"
      ]
     },
     "execution_count": 56,
     "metadata": {},
     "output_type": "execute_result"
    }
   ],
   "source": [
    "from sklearn.model_selection import train_test_split\n",
    "\n",
    "X = cancer.iloc[:,0:4].values\n",
    "y= cancer.iloc[:,-1].values\n",
    "\n",
    "from sklearn.preprocessing import LabelEncoder\n",
    "leb = LabelEncoder()\n",
    "y = leb.fit_transform(y)\n",
    "\n",
    "X_train, X_test, y_train, y_test = train_test_split(X, y, test_size=0.1, random_state=0)\n",
    "\n",
    "X_test.shape"
   ]
  },
  {
   "cell_type": "markdown",
   "metadata": {},
   "source": [
    "# Feature scaling "
   ]
  },
  {
   "cell_type": "code",
   "execution_count": 57,
   "metadata": {},
   "outputs": [],
   "source": [
    "from sklearn.preprocessing import StandardScaler\n",
    "\n",
    "sc = StandardScaler()\n",
    "\n",
    "X_train = sc.fit_transform(X_train)\n",
    "X_test = sc.fit_transform(X_test)"
   ]
  },
  {
   "cell_type": "markdown",
   "metadata": {},
   "source": [
    "# Model Building"
   ]
  },
  {
   "cell_type": "code",
   "execution_count": 58,
   "metadata": {},
   "outputs": [],
   "source": [
    "import keras\n",
    "from keras.models import Sequential\n",
    "from keras.layers import Dense"
   ]
  },
  {
   "cell_type": "code",
   "execution_count": 59,
   "metadata": {},
   "outputs": [],
   "source": [
    "\n",
    "#add first input and hidden layer\n",
    "\n",
    "classifier = Sequential()\n",
    "classifier.add(Dense(3, activation='relu'))\n",
    "                    \n",
    "                        \n",
    "#add second hidden layer\n",
    "classifier.add(Dense(3, activation='relu'))\n",
    "\n",
    "#adding output layer\n",
    "classifier.add(Dense(1, activation='sigmoid'))"
   ]
  },
  {
   "cell_type": "code",
   "execution_count": 60,
   "metadata": {},
   "outputs": [],
   "source": [
    "classifier.compile(optimizer='Adam', loss='binary_crossentropy', metrics=['accuracy'])"
   ]
  },
  {
   "cell_type": "code",
   "execution_count": 68,
   "metadata": {},
   "outputs": [
    {
     "name": "stdout",
     "output_type": "stream",
     "text": [
      "Epoch 1/100\n",
      "512/512 [==============================] - 0s 42us/step - loss: 0.2543 - accuracy: 0.8965\n",
      "Epoch 2/100\n",
      "512/512 [==============================] - 0s 30us/step - loss: 0.2543 - accuracy: 0.8965\n",
      "Epoch 3/100\n",
      "512/512 [==============================] - 0s 48us/step - loss: 0.2542 - accuracy: 0.8965\n",
      "Epoch 4/100\n",
      "512/512 [==============================] - 0s 50us/step - loss: 0.2542 - accuracy: 0.8965\n",
      "Epoch 5/100\n",
      "512/512 [==============================] - 0s 38us/step - loss: 0.2542 - accuracy: 0.8965\n",
      "Epoch 6/100\n",
      "512/512 [==============================] - 0s 36us/step - loss: 0.2542 - accuracy: 0.8965\n",
      "Epoch 7/100\n",
      "512/512 [==============================] - 0s 38us/step - loss: 0.2541 - accuracy: 0.8965\n",
      "Epoch 8/100\n",
      "512/512 [==============================] - 0s 37us/step - loss: 0.2541 - accuracy: 0.8965\n",
      "Epoch 9/100\n",
      "512/512 [==============================] - 0s 39us/step - loss: 0.2540 - accuracy: 0.8984\n",
      "Epoch 10/100\n",
      "512/512 [==============================] - 0s 43us/step - loss: 0.2540 - accuracy: 0.8984\n",
      "Epoch 11/100\n",
      "512/512 [==============================] - 0s 37us/step - loss: 0.2540 - accuracy: 0.8965\n",
      "Epoch 12/100\n",
      "512/512 [==============================] - 0s 36us/step - loss: 0.2540 - accuracy: 0.8926\n",
      "Epoch 13/100\n",
      "512/512 [==============================] - 0s 35us/step - loss: 0.2539 - accuracy: 0.8926\n",
      "Epoch 14/100\n",
      "512/512 [==============================] - 0s 37us/step - loss: 0.2540 - accuracy: 0.8926\n",
      "Epoch 15/100\n",
      "512/512 [==============================] - 0s 34us/step - loss: 0.2540 - accuracy: 0.8906\n",
      "Epoch 16/100\n",
      "512/512 [==============================] - 0s 36us/step - loss: 0.2539 - accuracy: 0.8926\n",
      "Epoch 17/100\n",
      "512/512 [==============================] - 0s 34us/step - loss: 0.2539 - accuracy: 0.8926\n",
      "Epoch 18/100\n",
      "512/512 [==============================] - 0s 34us/step - loss: 0.2538 - accuracy: 0.8926\n",
      "Epoch 19/100\n",
      "512/512 [==============================] - 0s 37us/step - loss: 0.2538 - accuracy: 0.8926\n",
      "Epoch 20/100\n",
      "512/512 [==============================] - 0s 34us/step - loss: 0.2538 - accuracy: 0.8926\n",
      "Epoch 21/100\n",
      "512/512 [==============================] - 0s 56us/step - loss: 0.2537 - accuracy: 0.8926\n",
      "Epoch 22/100\n",
      "512/512 [==============================] - 0s 33us/step - loss: 0.2537 - accuracy: 0.8926\n",
      "Epoch 23/100\n",
      "512/512 [==============================] - 0s 43us/step - loss: 0.2538 - accuracy: 0.8926\n",
      "Epoch 24/100\n",
      "512/512 [==============================] - 0s 38us/step - loss: 0.2537 - accuracy: 0.8906\n",
      "Epoch 25/100\n",
      "512/512 [==============================] - 0s 35us/step - loss: 0.2538 - accuracy: 0.8906\n",
      "Epoch 26/100\n",
      "512/512 [==============================] - 0s 42us/step - loss: 0.2538 - accuracy: 0.8867\n",
      "Epoch 27/100\n",
      "512/512 [==============================] - 0s 30us/step - loss: 0.2540 - accuracy: 0.8867\n",
      "Epoch 28/100\n",
      "512/512 [==============================] - 0s 39us/step - loss: 0.2540 - accuracy: 0.8867\n",
      "Epoch 29/100\n",
      "512/512 [==============================] - 0s 38us/step - loss: 0.2541 - accuracy: 0.8867\n",
      "Epoch 30/100\n",
      "512/512 [==============================] - 0s 30us/step - loss: 0.2540 - accuracy: 0.8867\n",
      "Epoch 31/100\n",
      "512/512 [==============================] - 0s 55us/step - loss: 0.2540 - accuracy: 0.8867\n",
      "Epoch 32/100\n",
      "512/512 [==============================] - 0s 29us/step - loss: 0.2539 - accuracy: 0.8867\n",
      "Epoch 33/100\n",
      "512/512 [==============================] - 0s 42us/step - loss: 0.2538 - accuracy: 0.8887\n",
      "Epoch 34/100\n",
      "512/512 [==============================] - 0s 33us/step - loss: 0.2537 - accuracy: 0.8887\n",
      "Epoch 35/100\n",
      "512/512 [==============================] - 0s 39us/step - loss: 0.2537 - accuracy: 0.8906\n",
      "Epoch 36/100\n",
      "512/512 [==============================] - 0s 33us/step - loss: 0.2537 - accuracy: 0.8906\n",
      "Epoch 37/100\n",
      "512/512 [==============================] - 0s 28us/step - loss: 0.2536 - accuracy: 0.8906\n",
      "Epoch 38/100\n",
      "512/512 [==============================] - 0s 40us/step - loss: 0.2536 - accuracy: 0.8906\n",
      "Epoch 39/100\n",
      "512/512 [==============================] - 0s 34us/step - loss: 0.2535 - accuracy: 0.8906\n",
      "Epoch 40/100\n",
      "512/512 [==============================] - 0s 50us/step - loss: 0.2535 - accuracy: 0.8926\n",
      "Epoch 41/100\n",
      "512/512 [==============================] - 0s 36us/step - loss: 0.2534 - accuracy: 0.8926\n",
      "Epoch 42/100\n",
      "512/512 [==============================] - 0s 60us/step - loss: 0.2535 - accuracy: 0.8926\n",
      "Epoch 43/100\n",
      "512/512 [==============================] - 0s 50us/step - loss: 0.2534 - accuracy: 0.8926\n",
      "Epoch 44/100\n",
      "512/512 [==============================] - 0s 39us/step - loss: 0.2534 - accuracy: 0.8945\n",
      "Epoch 45/100\n",
      "512/512 [==============================] - 0s 38us/step - loss: 0.2534 - accuracy: 0.8926\n",
      "Epoch 46/100\n",
      "512/512 [==============================] - 0s 41us/step - loss: 0.2534 - accuracy: 0.8926\n",
      "Epoch 47/100\n",
      "512/512 [==============================] - 0s 33us/step - loss: 0.2533 - accuracy: 0.8926\n",
      "Epoch 48/100\n",
      "512/512 [==============================] - 0s 34us/step - loss: 0.2533 - accuracy: 0.8945\n",
      "Epoch 49/100\n",
      "512/512 [==============================] - 0s 25us/step - loss: 0.2532 - accuracy: 0.8945\n",
      "Epoch 50/100\n",
      "512/512 [==============================] - 0s 46us/step - loss: 0.2533 - accuracy: 0.8945\n",
      "Epoch 51/100\n",
      "512/512 [==============================] - 0s 37us/step - loss: 0.2532 - accuracy: 0.8945\n",
      "Epoch 52/100\n",
      "512/512 [==============================] - 0s 40us/step - loss: 0.2532 - accuracy: 0.8945\n",
      "Epoch 53/100\n",
      "512/512 [==============================] - 0s 36us/step - loss: 0.2532 - accuracy: 0.8945\n",
      "Epoch 54/100\n",
      "512/512 [==============================] - 0s 36us/step - loss: 0.2532 - accuracy: 0.8945\n",
      "Epoch 55/100\n",
      "512/512 [==============================] - 0s 36us/step - loss: 0.2532 - accuracy: 0.8945\n",
      "Epoch 56/100\n",
      "512/512 [==============================] - 0s 26us/step - loss: 0.2532 - accuracy: 0.8945\n",
      "Epoch 57/100\n",
      "512/512 [==============================] - 0s 42us/step - loss: 0.2532 - accuracy: 0.8945\n",
      "Epoch 58/100\n",
      "512/512 [==============================] - 0s 40us/step - loss: 0.2532 - accuracy: 0.8945\n",
      "Epoch 59/100\n",
      "512/512 [==============================] - 0s 35us/step - loss: 0.2531 - accuracy: 0.8945\n",
      "Epoch 60/100\n",
      "512/512 [==============================] - 0s 35us/step - loss: 0.2531 - accuracy: 0.8945\n",
      "Epoch 61/100\n",
      "512/512 [==============================] - 0s 39us/step - loss: 0.2531 - accuracy: 0.8945\n",
      "Epoch 62/100\n",
      "512/512 [==============================] - 0s 31us/step - loss: 0.2531 - accuracy: 0.8945\n",
      "Epoch 63/100\n",
      "512/512 [==============================] - 0s 46us/step - loss: 0.2531 - accuracy: 0.8945\n",
      "Epoch 64/100\n",
      "512/512 [==============================] - 0s 33us/step - loss: 0.2532 - accuracy: 0.8945\n",
      "Epoch 65/100\n",
      "512/512 [==============================] - 0s 32us/step - loss: 0.2531 - accuracy: 0.8945\n",
      "Epoch 66/100\n",
      "512/512 [==============================] - 0s 40us/step - loss: 0.2532 - accuracy: 0.8945\n",
      "Epoch 67/100\n",
      "512/512 [==============================] - 0s 34us/step - loss: 0.2532 - accuracy: 0.8945\n",
      "Epoch 68/100\n",
      "512/512 [==============================] - 0s 33us/step - loss: 0.2531 - accuracy: 0.8945\n",
      "Epoch 69/100\n",
      "512/512 [==============================] - ETA: 0s - loss: 0.2654 - accuracy: 0.89 - 0s 41us/step - loss: 0.2531 - accuracy: 0.8945\n",
      "Epoch 70/100\n",
      "512/512 [==============================] - 0s 37us/step - loss: 0.2531 - accuracy: 0.8945\n",
      "Epoch 71/100\n",
      "512/512 [==============================] - 0s 45us/step - loss: 0.2531 - accuracy: 0.8945\n",
      "Epoch 72/100\n",
      "512/512 [==============================] - 0s 38us/step - loss: 0.2531 - accuracy: 0.8945\n",
      "Epoch 73/100\n",
      "512/512 [==============================] - 0s 36us/step - loss: 0.2529 - accuracy: 0.8945\n",
      "Epoch 74/100\n",
      "512/512 [==============================] - 0s 38us/step - loss: 0.2529 - accuracy: 0.8945\n",
      "Epoch 75/100\n",
      "512/512 [==============================] - 0s 43us/step - loss: 0.2530 - accuracy: 0.8945\n",
      "Epoch 76/100\n",
      "512/512 [==============================] - 0s 45us/step - loss: 0.2531 - accuracy: 0.8945\n",
      "Epoch 77/100\n",
      "512/512 [==============================] - 0s 37us/step - loss: 0.2531 - accuracy: 0.8945\n",
      "Epoch 78/100\n",
      "512/512 [==============================] - 0s 38us/step - loss: 0.2530 - accuracy: 0.8945\n",
      "Epoch 79/100\n",
      "512/512 [==============================] - 0s 40us/step - loss: 0.2530 - accuracy: 0.8945\n",
      "Epoch 80/100\n"
     ]
    },
    {
     "name": "stdout",
     "output_type": "stream",
     "text": [
      "512/512 [==============================] - 0s 39us/step - loss: 0.2529 - accuracy: 0.8945\n",
      "Epoch 81/100\n",
      "512/512 [==============================] - 0s 30us/step - loss: 0.2529 - accuracy: 0.8945\n",
      "Epoch 82/100\n",
      "512/512 [==============================] - 0s 40us/step - loss: 0.2528 - accuracy: 0.8945\n",
      "Epoch 83/100\n",
      "512/512 [==============================] - 0s 35us/step - loss: 0.2528 - accuracy: 0.8945\n",
      "Epoch 84/100\n",
      "512/512 [==============================] - 0s 40us/step - loss: 0.2528 - accuracy: 0.8945\n",
      "Epoch 85/100\n",
      "512/512 [==============================] - 0s 37us/step - loss: 0.2527 - accuracy: 0.8945\n",
      "Epoch 86/100\n",
      "512/512 [==============================] - 0s 33us/step - loss: 0.2528 - accuracy: 0.8945\n",
      "Epoch 87/100\n",
      "512/512 [==============================] - 0s 36us/step - loss: 0.2527 - accuracy: 0.8945\n",
      "Epoch 88/100\n",
      "512/512 [==============================] - 0s 36us/step - loss: 0.2527 - accuracy: 0.8945\n",
      "Epoch 89/100\n",
      "512/512 [==============================] - 0s 31us/step - loss: 0.2527 - accuracy: 0.8945\n",
      "Epoch 90/100\n",
      "512/512 [==============================] - 0s 31us/step - loss: 0.2527 - accuracy: 0.8945\n",
      "Epoch 91/100\n",
      "512/512 [==============================] - 0s 30us/step - loss: 0.2526 - accuracy: 0.8945\n",
      "Epoch 92/100\n",
      "512/512 [==============================] - 0s 30us/step - loss: 0.2526 - accuracy: 0.8945\n",
      "Epoch 93/100\n",
      "512/512 [==============================] - 0s 40us/step - loss: 0.2526 - accuracy: 0.8945\n",
      "Epoch 94/100\n",
      "512/512 [==============================] - 0s 33us/step - loss: 0.2526 - accuracy: 0.8945\n",
      "Epoch 95/100\n",
      "512/512 [==============================] - 0s 29us/step - loss: 0.2526 - accuracy: 0.8945\n",
      "Epoch 96/100\n",
      "512/512 [==============================] - 0s 35us/step - loss: 0.2525 - accuracy: 0.8945\n",
      "Epoch 97/100\n",
      "512/512 [==============================] - 0s 34us/step - loss: 0.2525 - accuracy: 0.8945\n",
      "Epoch 98/100\n",
      "512/512 [==============================] - 0s 37us/step - loss: 0.2525 - accuracy: 0.8945\n",
      "Epoch 99/100\n",
      "512/512 [==============================] - 0s 44us/step - loss: 0.2525 - accuracy: 0.8945\n",
      "Epoch 100/100\n",
      "512/512 [==============================] - 0s 43us/step - loss: 0.2526 - accuracy: 0.8945\n"
     ]
    },
    {
     "data": {
      "text/plain": [
       "<keras.callbacks.callbacks.History at 0x1b9c3a5cec8>"
      ]
     },
     "execution_count": 68,
     "metadata": {},
     "output_type": "execute_result"
    }
   ],
   "source": [
    "classifier.fit(X_train, y_train, batch_size=100, epochs=100)"
   ]
  },
  {
   "cell_type": "code",
   "execution_count": 69,
   "metadata": {},
   "outputs": [],
   "source": [
    "#Predict test result\n",
    "y_pred = classifier.predict(X_test)\n",
    "y_pred = (y_pred > 0.5)"
   ]
  },
  {
   "cell_type": "code",
   "execution_count": 70,
   "metadata": {},
   "outputs": [],
   "source": [
    "#Make Confusion metrix\n",
    "\n",
    "from sklearn.metrics import confusion_matrix\n",
    "cm = confusion_matrix(y_test,y_pred)"
   ]
  },
  {
   "cell_type": "code",
   "execution_count": 71,
   "metadata": {},
   "outputs": [
    {
     "data": {
      "text/plain": [
       "<matplotlib.axes._subplots.AxesSubplot at 0x1b9c3a78588>"
      ]
     },
     "execution_count": 71,
     "metadata": {},
     "output_type": "execute_result"
    },
    {
     "data": {
      "image/png": "[encoded data removed]",
      "text/plain": [
       "<Figure size 720x720 with 2 Axes>"
      ]
     },
     "metadata": {
      "needs_background": "light"
     },
     "output_type": "display_data"
    }
   ],
   "source": [
    "plt.figure(figsize=(10,10))\n",
    "sns.heatmap(cm,annot=True)"
   ]
  },
  {
   "cell_type": "code",
   "execution_count": null,
   "metadata": {},
   "outputs": [],
   "source": []
  }
 ],
 "metadata": {
  "kernelspec": {
   "display_name": "Python 3",
   "language": "python",
   "name": "python3"
  },
  "language_info": {
   "codemirror_mode": {
    "name": "ipython",
    "version": 3
   },
   "file_extension": ".py",
   "mimetype": "text/x-python",
   "name": "python",
   "nbconvert_exporter": "python",
   "pygments_lexer": "ipython3",
   "version": "3.7.4"
  }
 },
 "nbformat": 4,
 "nbformat_minor": 2
}
